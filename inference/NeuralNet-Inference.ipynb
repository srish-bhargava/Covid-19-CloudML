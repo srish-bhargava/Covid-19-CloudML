{
 "cells": [
  {
   "cell_type": "code",
   "execution_count": 1,
   "metadata": {},
   "outputs": [
    {
     "output_type": "stream",
     "name": "stderr",
     "text": "Using Theano backend.\nWARNING (theano.tensor.blas): Using NumPy C-API based implementation for BLAS functions.\n"
    }
   ],
   "source": [
    "# DS - updated imports\n",
    "import json\n",
    "import numpy as np\n",
    "import pandas as pd\n",
    "import pickle\n",
    "from collections import defaultdict\n",
    "import re\n",
    "#from bs4 import BeautifulSoup\n",
    "import sys\n",
    "import os\n",
    "os.environ['KERAS_BACKEND']='theano'\n",
    "from keras.preprocessing.text import Tokenizer\n",
    "from keras.preprocessing.sequence import pad_sequences\n",
    "from keras.utils.np_utils import to_categorical\n",
    "from keras.layers import Embedding\n",
    "from keras.layers import Dense, Input, Flatten\n",
    "from keras.layers import Conv1D, MaxPooling1D, Embedding, Dropout, LSTM, GRU, Bidirectional\n",
    "from keras.models import Model\n",
    "from keras.callbacks import ModelCheckpoint\n",
    "import matplotlib.pyplot as plt\n",
    "plt.switch_backend('agg')\n",
    "from keras import backend as K\n",
    "from keras.engine.topology import Layer, InputSpec\n",
    "from keras import initializers\n",
    "from keras.models import model_from_json"
   ]
  },
  {
   "cell_type": "code",
   "execution_count": 2,
   "metadata": {},
   "outputs": [],
   "source": [
    "MAX_SEQUENCE_LENGTH = 1000\n",
    "MAX_NB_WORDS = 20000\n",
    "EMBEDDING_DIM = 100\n",
    "VALIDATION_SPLIT = 0.2"
   ]
  },
  {
   "cell_type": "code",
   "execution_count": 3,
   "metadata": {},
   "outputs": [],
   "source": [
    "tweets = pd.read_excel(\"text_classification_dataset.xlsx\")"
   ]
  },
  {
   "cell_type": "code",
   "execution_count": 4,
   "metadata": {},
   "outputs": [],
   "source": [
    "macronum=sorted(set(tweets['type']))\n",
    "macro_to_id = dict((note, number) for number, note in enumerate(macronum))\n",
    "\n",
    "def fun(i):\n",
    "    return macro_to_id[i]\n",
    "\n",
    "tweets['type']=tweets['type'].apply(fun)"
   ]
  },
  {
   "cell_type": "code",
   "execution_count": 5,
   "metadata": {},
   "outputs": [
    {
     "output_type": "execute_result",
     "data": {
      "text/plain": "array([3, 0, 1, 2])"
     },
     "metadata": {},
     "execution_count": 5
    }
   ],
   "source": [
    "tweets['type'].unique()"
   ]
  },
  {
   "cell_type": "code",
   "execution_count": 6,
   "metadata": {},
   "outputs": [],
   "source": [
    "labels = []\n",
    "for idx in tweets['type']:\n",
    "    labels.append(idx)"
   ]
  },
  {
   "cell_type": "code",
   "execution_count": 7,
   "metadata": {
    "tags": [
     "outputPrepend"
    ]
   },
   "outputs": [
    {
     "output_type": "stream",
     "name": "stdout",
     "text": "loomberg holds 7-point lead on trump in michigan, poll shows \n\nURL via AT_USER\nAT_USER AT_USER AT_USER AT_USER hi kim, what are your thoughts on this:\n\nURL\nrt AT_USER hi AT_USER you’ve been misinformed. my father worked at gm for 30+ yrs in quebec &amp; ontario before he ran for office. by…\nAT_USER nothing to do with racism that’s just the intolerant loony identity politics lefties narrative. bri… URL\nrt AT_USER he should withdraw his plea.\n he's not guilty. fbi is corrupt. they tricked him. we need justice for gen flynn. an ameri…\nrt AT_USER i absolutely laugh 😂🤣😂 when these two tells us all they’re going to create jobs. neither guy, outside of politics, ever h…\nrt AT_USER trump is signing a deal with china that no one has seen. no copy has been made available to congress or anyone else. nor…\nthe weaponization of woke pc id politics that has made this website so god, damn, insufferable, is on full display… URL\n17.  cnn fails to ask a single immigration question URL trump news\nrt AT_USER democrat candidates are bragging about being in washingtondc politics for over 30 years. they are the problem. they haven’t…\nrt AT_USER AT_USER AT_USER politics is not entertainment.\nmedvedev \"there will be significant changes not only to a variety of constitution articles, but to the balance of… URL\nrt AT_USER donald trump thinks this is all about him. i think it’s about you— your health care, your schools, your lives and your fu…\ntrump administration refuses to release all available aid to puerto rico despite earthquakes, citing ‘corruption’ c… URL\nrt AT_USER hi, i'm abi, a 3rd and final year politics, media &amp; film student from ha-modjadji in limpopo. i won't be allowed to register…\n15. fact check: bernie sanders confuses president trump with bush.  URL trump news\none thing i learned from max elbaum is that there aren’t really betrayals in politics. there’s a series of calculat… URL\nfinally she is revealed.\n\nURL URL\nrt AT_USER fishermen get thrown in the brexit fryer by leave. URL\nrt AT_USER i honestly don’t expect philosophical precision from people who are busy being entertaining, usually a more productive act…\nrt AT_USER labour leadership contest: party should have defended free movement, says lisa nandy – live news URL\npolitics is intensely infuriating, largely disappointing, but  critically important\n\nive been in office a yr. organ… URL\nrt AT_USER sen. sanders is encouraging cardi b to run for office, the latest exchange of compliments and support between the unlikely duo. \"s…\nrt AT_USER if anyone deserves reparations it AT_USER am i wrong? \nURL\nrt AT_USER like everything else about leaveeu, their claim that their brexit celebratory  t-shirts are made in britain is just anothe…\nrt AT_USER breaking news: house democrats shared new records supporting the trump impeachment charges, adding pressure on republicans to…\nrt AT_USER \"let’s call president trump’s newfound religion on climate what it is — political lip service.\" — AT_USER president AT_USER\nrt AT_USER nice work AT_USER  ! new figure in ukraine scandal AT_USER  taken into police custody at trump resort last year https…\nrt AT_USER johnson’s vanity is proving expensive for taxpayers URL\nrt AT_USER i'm no sugar daddy says sugar daddy tory mp URL\nAT_USER AT_USER haha current hindu politics that bjp leaders isn't very suitable for our larger community… URL\nqueen!!!!! earrings, hair, politics, all of it!\n\nalso, fuck zionists. URL\nrt AT_USER ukraine prosecutor offered information related to biden in exchange for ambassador’s ouster, newly released materials s…\nrt AT_USER this is explicit anti-muslim bigotry and it is being virtually ignored.\n\nevery day, islamophobia is normalized in our politics.\nrt AT_USER the intelligence community has made it clear that russia is still attempting to influence our elections every day.\n\nAT_USER\nrt AT_USER bernie sanders would support cardi b going into politics:\n\n\"cardi b is deeply concerned about what's happening in the country.\"\nht…\nrt AT_USER evans isn't naive. he knows a starting point probably won’t save america. but it could piece together some of what’s been broken…\nputin to make sweeping changes in russian government - is sh$+ about to hit fan? URL russia politics war trump\nrt AT_USER today in the capitals:\n\n🇪🇸 spanish far-right sues european parliament over catalan meps\n🇩🇪 berlin says no to new funding for…\nlike i said, gene roddenberry could return from the grave and call out certain people’s bullshit, and they’d still… URL\nrt AT_USER epsb has smartly decided to start to collect class size data.  why did the AT_USER decide to stop collecting the data…\nrt AT_USER AT_USER right....... URL\nrt AT_USER uhuru kenyatta ~ i support bbi, its unfortunate AT_USER feels left out, but am not 4 or against anyone, am 4 the 4…\nbbc politics has turned into the sort of woman's magazine you find in hairdressers. URL\nrt AT_USER another tory creep on AT_USER regurgitating the once in a generation nonsense on orders of the imperial meister. a thro…\nwatch msfs global politics &amp; security co-chair AT_USER in conversation with AT_USER on \"the scourge of hum… URL\nrt AT_USER sanders *still* thinks immigrants make americans poorer. sanders says he held hawkish immigration views ‘250 years ago’ (…\nAT_USER AT_USER AT_USER AT_USER AT_USER AT_USER also no state charges fil… URL\nrt AT_USER “the capacity to do everything else that needs to be done - health, housing, climate action, tax reform - depends on achievi…\nrt AT_USER brexit: uk public wants to remain in eu, new poll finds weeks before withdrawal date\n\nremain backed by highly symbolic 52-…\nrt AT_USER a starting point gives politicians space to speak directly to constituents, through videos on a variety of issues. the point, ev…\nrt AT_USER you don't need to be a rocket scientist to work out the israeli government has stoked a mendacious smear campaign against…\nrt AT_USER scheer says only iran at fault for plane shootdown after trudeau says escalating tensions played a role URL\nrt AT_USER russian government and prime minister medvedev resign.\n\nrussian prime minister dmitry medvedev said on wednesday that the…\nit's been so refreshing and exciting to connect with like minded unusualamericans who are tired of endless war and… URL\nrt AT_USER good. let's have a real trial now. the only kind known to america (with witnesses and documents).\n\n URL\ni wouldn’t position those topics as ~*~how they’d behave in marriage~*~ bc marriage isn’t necessarily the goal &amp; so… URL\nmarie yovanovitch: former ukraine ambassador calls for investigation after documents suggest she was under surveill… URL\nrt AT_USER tavleen ji that is why the only politics should be on development AT_USER AT_USER\nrt AT_USER featurism isn’t a new word or concept and it ties in with colourism and hair politics\nq4 tax day, err'body! fuck every dimwit on that stage last night, fuck the lunatic incumbent, fuck all 535 shitbags… URL\nrt AT_USER yikes. nothing can be further from the truth. URL\nrt AT_USER last time uk meps will ever trek to eu parl in strasbourg. \n\ntruly historic. your votes made this happen. we have chang…\nrt AT_USER bebecool: i grew up from bidandi ssali’s so i have a lot of politics in my head\n\nAT_USER sleeping in a garage does…\nrt AT_USER according to mother jones, robert hyde, the new figure in the ukraine scandal, was taken into police custody at a trump r…\nrt AT_USER the book has fab chapters on the indiana jones complex; race, gender and positionality; safety and security; the politic…\nrt AT_USER not only will i wear nike w adidas i will also wear a puma hat and a reebok tennis skirt fuck all this shit.\nrt AT_USER be there. be loud, gatornation ‼️👊\n\n🆚 2 AT_USER\n🏟️ alfred a. ring complex\n⏰ 5 p.m.\n📊 URL\n📺 URL\nAT_USER tennis court was so slept onnn\nrt AT_USER and then on the third day.. tennis court by lorde came out\nrt AT_USER tennis australia said last night's \"rally for relief\" helped raise nearly 5 million australian dollars ($3.5 million), with AT_USER\nrt AT_USER loving the new thisgirlcan ad 😍\n\nsome extra motivation for all our amazing sherallies ambassadors and activators who cont…\nAT_USER AT_USER he places dead last in triathalon competitions and his wife beats him in tennis. kerri,… URL\nrt AT_USER good morning patriots \n\nfirst tennis ball encounter \n\nlife without dogs would suck \n\nhave great day \nanimals are great…\nrt AT_USER heavy smoke from the massive brush fires is now impacting australia’s busiest airport and matches to qualify for the austral…\nrt AT_USER a pirbright man who took up realtennis after being diagnosed with leukaemia has completed an epic challenge, playing…\nidk bout yall but i dreamed to be a professional tennis player bc of them 😍 URL\nAT_USER to live healthier as whole and to be a happier me. that includes AT_USER and also started playing tennis.\nhits, giggles as stars rally for cause -\nwilliams, a seven-time aust­ralian open champion, combined with djokovic i… URL\nrt AT_USER an amazing night has helped take the total raised to $4,826,014 👏 👏 👏\n\nand with ao2020 around the corner there's more…\ncan a tennis player have any knowledge of what it means 2 be completely intelligent if they don’t know what it m… URL\nAT_USER what's that thing that is use to play table tennis pls??\nAT_USER it aired on tennis channel, didn't it? i might have to get tc plus just to watch it. i so prefer s… URL\nlol at niels bogus £100 per century given to australias needs - thats an actual insult\n\nthat tennis player gave her… URL\nrt AT_USER i’ll post a max tennis and cbb play in the morning if this tweet hits 750 rt/likes by noon est.🔮\nphenomenal start to the year with these tennis syndicate moves! many dimes bet, many dimes won!😀 gamblingtwitter URL\nrt AT_USER group of my favorite tennis players URL\nrt AT_USER AT_USER you just worry about them teeth my pal could chew an apple through a tennis racket with them🤮 URL\nrt AT_USER call for nominations! 📣 \n\nis there an inspiring champion, leader, or other great contributor to tennis who you think s…\ngroup of my favorite tennis players URL\nrt AT_USER .\n\n                          盩厔 ; 𝐙𝐇𝐔𝐎 𝐙𝐇𝐈.\n                          prince of tennis au ,\n                          eng/fil…\nif you’re betting tennis and not tailing this guy then you’re doing it wrong 🔥 🤑 URL\nAT_USER AT_USER rafa's pr&amp;mrkting teams r not even as half good/productive as nd's teams let alone… URL\nmy feelings are validated.  failures and success.  i did not work this hard to allow my heart to bleed anything out… URL\nAT_USER AT_USER AT_USER fedal is the greatest gift to tennis. these guys are amazing when they retire t… URL\nrt AT_USER are you ready for awesomelive tomorrow?\n\n— galaxya launching\n— blackpink exclusive fan meeting\n\ndate: 20|01|14\ntime: 5…\nrt AT_USER tennis could not ask for better representatives to come together and support such an important cause, AT_USER and AT_USER\nrt AT_USER a swiss court has ruled in favour of a dozen young climate activists from lausanne action climat who occupied a credit sui…\nrt AT_USER AT_USER AT_USER AT_USER AT_USER AT_USER AT_USER AT_USER AT_USER AT_USER\nrt AT_USER serena williams has won her first tennis title since having her daughter alexis three years ago—and she’s giving all o…\nthe ccac has a wide variety of amenities! from gymnastics, to tennis and pickleball, to lap swim and so much more.… URL\nAT_USER hey rich, thanks for reaching out! we are still looking into this and will match all official stats before… URL\ngreatest thing in life: winning a tennismatch. second greatest thing in life: losing a tennis match.\nrt AT_USER delighted to announce our new partnership with AT_USER offering tennis scholarships from sep 2020 combining first c…\na new study says people who sit a lot die sooner. basically, if you're a tennis umpire with a roommate who paints portraits, you're screwed.\nrt AT_USER AT_USER my name is thai and i love tennis balls. my favourite toy in the world 😍 URL\nthe matching nike tennis skirts 🥺 URL\nrt AT_USER what a great idea! 👏\n\nroger federer, serena williams &amp; rafael nadal are set to play in a fundraising match in australia to ra…\nget this guy a tennis racquet!\nAT_USER cuz we all been there lmao it’s the fuzzy tennis ball phase\n⭐ the new york times named “your ad could go here” by AT_USER among the most anticipated books of 2020:… URL\nis your child wanting to try a new sport in the new year? registration is open for the y’s 2020 spring youth sports… URL\ngood evening.\nwere you happy today?\ni hope everyone smiles tomorrow.\n\nhow to improve tennis skills !🎾\nlook👉… URL\nrt AT_USER some of the biggest names in tennis have teamed up to raise funds for the bushfire appeal on a magical night in melbourne…\nrt AT_USER good on canadian AT_USER for calling out nadal and federer for remaining silent on danger of playing in wildfire sm…\ni made a beat for you ! AT_USER \n\nURL\nrt AT_USER jeonghan and seokmin were planning to learn tennis after the tour ends 🥺🥺\nrt AT_USER serena williams donates tennis prize money to australian wildfire relief URL\nrt AT_USER breaking: russian pm dmitry medvedev announced that he and the entire russian government is to resign in a televised statem…\nwhen was the last time you picked up the phone to talk to someone? instead of a message marathon or texting tennis,… URL\nrt AT_USER not only will i wear nike w adidas i will also wear a puma hat and a reebok tennis skirt fuck all this shit. URL\nAT_USER AT_USER AT_USER AT_USER AT_USER a fairly neutral source. it purports to be repres… URL\nAT_USER AT_USER look who equates healthcare with tennis shoe manufacturers ... no one in this country is… URL\natp auckland: denis shapovalov and john isner win. fognini and khachanov.. URL URL\nanyway conditioning for tennis got me fucked up pffft i can’t even walk without wanting to cry in pain :’)\nrt AT_USER narrator: a man stands in the shadow, slightly illuminated by the soft blue light.he shifts from left to right, a tennis racque…\ntennis elbow.😔\nrt AT_USER how to save a match point - with a little help from australia's firefighters.\n\nAT_USER | rally4relief\n\nto contrib…\nrt AT_USER it started when nick kyrgios “chucked up a tweet” after dinner.\n\nnow tennis has raised almost a$5m for the australian bushfi…\nAT_USER i watched arthur ashe, and then guillermo villas. he was fantastic to watch and then of course the bjo… URL\nrt AT_USER • adam scott plays tennis with a living-legend\n• a golf power couple gets group lesson\n• the world long drive champion show…\nrt AT_USER this was simply an incredible night of tennis in melbourne. AT_USER take a bow! rallyforrelief URL\nrt AT_USER check out womens nike dri fit skort skirt tennis black size medium (8-10) nike activewearskorts URL\n'shameful day for tennis': world in shock over 'awful' australian open drama URL wednesdayheadlines\nandrew fenty was named ncaa rookie of the year after his eye-popping freshman campaign. now, in year two, fenty is… URL\nrt AT_USER AT_USER when sirius was a wee lad, he loved his dinosaur.... until he swallowed a penny and threw up remnants of ot…\nrt AT_USER medical timeouts and a collapse as australian open choked by bushfire smoke URL URL\nrt AT_USER our tennis expert AT_USER has an australianopen package (main draw starts monday)\n\nif you want to tail it's a o…\naustralian open: serena williams seeks 24th grand slam; djokovic, federer &amp; nadal head men's field URL\nAT_USER AT_USER 21. my dad was really into tennis, one day i've started watching it too and got intereste… URL\nthere will be a meeting on friday, january 17th right after school for any girls 7th-12th grade who are interested… URL\nsix of the highest achieving para-athletes of 2019 make up the nominees for the laureus world sportsperson of the y… URL\nrt AT_USER “talking with roger we decided to give 250,000 australian dollars to the fire relief together”\n\nAT_USER made the re…\nrt AT_USER ao rally4relief sees the biggest names in tennis join together for one reason - to raise funds for australian bushfire…\nonline employment application | open positions: middle school boys tennis head coach at gms ://URL URL\nit's match day! come out and supports the 'cats in their spring season opener! \n\np.s. there will be 🍕🍕🍕😎\n\n🆚 illinoi… URL\ntennis: creating a vision is as much about involving the right stakeholders &amp; socializing what’s possible as much a… URL\nAT_USER AT_USER you’re covering.....a tennis match where a player is coughing from the fire smoke that… URL\nAT_USER why did they put the tennis on in the first place? beyond logical thinking. money money money\nrt AT_USER i saw many tennis players donated for bushfire in australia. i talked to my family and we’ll donate to australia red c…\nrt AT_USER the air quality in melbourne has dropped to the worst rating for the second day in a row on wednesday, a day after a sloven…\nthursday tennis best bets of the day URL URL\nrt AT_USER 'shameful day for tennis': world in shock over 'awful' australian open drama - why didn’t vichealth warn tennis australia…\nrt AT_USER a few days ago, deb was fighting the australian bushfires. today she’s playing doubles with her favourite tennis player. 🤗❤️…\ntennis australia on the wrong side of history URL\ni might fuck about and join a tennis club or something\nAT_USER i cannot serve an overhead tennis lob.\nadidas stan smith mens size 9 black leather animal print tennis haillet shoe URL URL\ntennis players in australian open to be issued with gas masks URL URL\nrt AT_USER wouldn't it be cool if tennis came together for a cause before every slam? pick an issue, pack an arena &amp; do a fundraiser…\nthis girl could make me watch tennis. saying this even after she ruined her first major title? class URL\nthursday tennis picks in auckland and adelaide URL URL\nrt AT_USER AT_USER kate is way too tough on stuffies but she looooovvvveees tennis balls. she can sniff them out anywhere... inclu…\nprofessional tennis players held a charity event where they raised 4 million dollars for australian fire relief las… URL\nthey’re grand slam tennis champions. awaiting participation in the australian open. they are naomi osaka and serena… URL\nrt AT_USER nothing seems to change with AT_USER he definitely had anger management problems, fancy whacking your own dad with…\nimagine if i'd pursued tennis in high school like my pe teacher wanted me to, imagine the power.\nfirst day being on board with this guys vip tennis picks and i go up 49 units which pays off the whole 3 month memebership!! in one day!!\nrt AT_USER tennis champion AT_USER showed off his rarely-seen relaxed side in this sit down with AT_USER discussing everyth…\nrt AT_USER we have reached our funding target for 2020! 🥳🥳🥳\n\na massive thank you to everyone who helped us get there. you’re all th…\nthe most fun tennis games ever! rally4relief URL\nAT_USER bet that was gen o cides army blowing up clouds.\nyou can still play tennis while the country burns delude… URL\nAT_USER AT_USER AT_USER AT_USER AT_USER AT_USER AT_USER AT_USER URL\nrt AT_USER you know what is the absolute joke? that roger is being dragged into everything. climate change? blame roger. tennis look…\nand then on the third day.. tennis court by lorde came out\nrt AT_USER what is platform tennis? \ncoming soon to dtcle, know the facts about this highly addictive game. URL\nbrb just making my entrance into a tennis stan twitter\nthe senior is one of the most decorated male tennis players to move through northwest louisiana in the past decade. URL\n2020 could be your year to get moving and change the lives of animals of the midshore! come see us at idlewild park… URL\nrt AT_USER 'i thought you liked yellow on me but that's ok.'\n\ngrigor dimitrov's shorts are the butt of the joke as pays a surprise visi…\nrt AT_USER ❤️ \n\ntennis greats played together to raise money for the australian bushfire appeal. \n\nbbctennis URL\nrt AT_USER a thread on hard court sliding &amp; movement (atp)🎾🏃‍♂️\n\n1/ there have been plenty of lightning fast athletes throughout tenn…\n"
    }
   ],
   "source": [
    "texts = []\n",
    "for tweet in tweets['text']:\n",
    "    tweet = tweet.lower() # convert text to lower-case\n",
    "    tweet = re.sub('((www\\.[^\\s]+)|(https?://[^\\s]+))', 'URL', tweet) # remove URLs\n",
    "    tweet = re.sub('@[^\\s]+', 'AT_USER', tweet) # remove usernames\n",
    "    tweet = re.sub(r'#([^\\s]+)', r'\\1', tweet) \n",
    "    print (tweet)\n",
    "    texts.append(tweet)"
   ]
  },
  {
   "cell_type": "code",
   "execution_count": 8,
   "metadata": {},
   "outputs": [
    {
     "output_type": "stream",
     "name": "stdout",
     "text": "('Number of Unique Tokens', 5817)\n"
    }
   ],
   "source": [
    "tokenizer = Tokenizer(num_words=MAX_NB_WORDS)\n",
    "tokenizer.fit_on_texts(texts)\n",
    "sequences = tokenizer.texts_to_sequences(texts)\n",
    "\n",
    "word_index = tokenizer.word_index\n",
    "\n",
    "print('Number of Unique Tokens',len(word_index))"
   ]
  },
  {
   "cell_type": "code",
   "execution_count": 9,
   "metadata": {},
   "outputs": [],
   "source": [
    "# DS - Let's save this out so we can use it later\n",
    "with open('dictionary.json', 'w') as dictionary_file:\n",
    "    json.dump(word_index, dictionary_file)"
   ]
  },
  {
   "cell_type": "code",
   "execution_count": 10,
   "metadata": {},
   "outputs": [
    {
     "output_type": "stream",
     "name": "stdout",
     "text": "('Shape of Data Tensor:', (1162, 1000))\n('Shape of Label Tensor:', (1162, 4))\n"
    }
   ],
   "source": [
    "data = pad_sequences(sequences, maxlen=MAX_SEQUENCE_LENGTH)\n",
    "\n",
    "labels = to_categorical(np.asarray(labels))\n",
    "print('Shape of Data Tensor:', data.shape)\n",
    "print('Shape of Label Tensor:', labels.shape)\n",
    "\n",
    "indices = np.arange(data.shape[0])\n",
    "np.random.shuffle(indices)\n",
    "data = data[indices]\n",
    "labels = labels[indices]\n",
    "nb_validation_samples = int(VALIDATION_SPLIT * data.shape[0])\n",
    "\n",
    "x_train = data[:-nb_validation_samples]\n",
    "y_train = labels[:-nb_validation_samples]\n",
    "x_val = data[-nb_validation_samples:]\n",
    "y_val = labels[-nb_validation_samples:]"
   ]
  },
  {
   "cell_type": "code",
   "execution_count": null,
   "metadata": {},
   "outputs": [],
   "source": [
    "embeddings_index = {}\n",
    "# f = open('glove.6B.100d.txt',encoding='utf8')\n",
    "f = open('glove.6B.100d.txt')\n",
    "for line in f:\n",
    "    values = line.split()\n",
    "    word = values[0]\n",
    "    coefs = np.asarray(values[1:], dtype='float32')\n",
    "    embeddings_index[word] = coefs\n",
    "f.close()\n",
    "\n",
    "print('Total %s word vectors in Glove 6B 100d.' % len(embeddings_index))"
   ]
  },
  {
   "cell_type": "code",
   "execution_count": null,
   "metadata": {},
   "outputs": [],
   "source": []
  },
  {
   "cell_type": "code",
   "execution_count": 12,
   "metadata": {},
   "outputs": [],
   "source": [
    "embedding_matrix = np.random.random((len(word_index) + 1, EMBEDDING_DIM))\n",
    "for word, i in word_index.items():\n",
    "    embedding_vector = embeddings_index.get(word)\n",
    "    if embedding_vector is not None:\n",
    "        # words not found in embedding index will be all-zeros.\n",
    "        embedding_matrix[i] = embedding_vector"
   ]
  },
  {
   "cell_type": "code",
   "execution_count": 13,
   "metadata": {},
   "outputs": [],
   "source": [
    "embedding_layer = Embedding(len(word_index) + 1,\n",
    "                            EMBEDDING_DIM,\n",
    "                            weights=[embedding_matrix],\n",
    "                            input_length=MAX_SEQUENCE_LENGTH,\n",
    "                            trainable=True)"
   ]
  },
  {
   "cell_type": "code",
   "execution_count": null,
   "metadata": {},
   "outputs": [],
   "source": []
  },
  {
   "cell_type": "code",
   "execution_count": null,
   "metadata": {},
   "outputs": [],
   "source": []
  },
  {
   "cell_type": "code",
   "execution_count": 14,
   "metadata": {},
   "outputs": [
    {
     "output_type": "stream",
     "name": "stdout",
     "text": "Bidirectional LSTM\nModel: \"model_1\"\n_________________________________________________________________\nLayer (type)                 Output Shape              Param #   \n=================================================================\ninput_1 (InputLayer)         (None, 1000)              0         \n_________________________________________________________________\nembedding_1 (Embedding)      (None, 1000, 100)         581800    \n_________________________________________________________________\nbidirectional_1 (Bidirection (None, 200)               160800    \n_________________________________________________________________\ndense_1 (Dense)              (None, 4)                 804       \n=================================================================\nTotal params: 743,404\nTrainable params: 743,404\nNon-trainable params: 0\n_________________________________________________________________\n"
    }
   ],
   "source": [
    "sequence_input = Input(shape=(MAX_SEQUENCE_LENGTH,), dtype='int32')\n",
    "embedded_sequences = embedding_layer(sequence_input)\n",
    "l_lstm = Bidirectional(LSTM(100))(embedded_sequences)\n",
    "preds = Dense(len(macronum), activation='softmax')(l_lstm)\n",
    "model = Model(sequence_input, preds)\n",
    "model.compile(loss='categorical_crossentropy',\n",
    "              optimizer='rmsprop',\n",
    "              metrics=['acc'])\n",
    "\n",
    "print(\"Bidirectional LSTM\")\n",
    "model.summary()"
   ]
  },
  {
   "cell_type": "code",
   "execution_count": 15,
   "metadata": {},
   "outputs": [
    {
     "output_type": "stream",
     "name": "stdout",
     "text": "Train on 930 samples, validate on 232 samples\nEpoch 1/3\n930/930 [==============================] - 519s 558ms/step - loss: 1.4271 - acc: 0.2763 - val_loss: 1.3887 - val_acc: 0.2802\n\nEpoch 00001: val_acc improved from -inf to 0.28017, saving model to model_rnn.hdf5\nEpoch 2/3\n930/930 [==============================] - 559s 601ms/step - loss: 1.3805 - acc: 0.3054 - val_loss: 1.3864 - val_acc: 0.2931\n\nEpoch 00002: val_acc improved from 0.28017 to 0.29310, saving model to model_rnn.hdf5\nEpoch 3/3\n530/930 [================>.............] - ETA: 4:15 - loss: 1.2651 - acc: 0.4245"
    }
   ],
   "source": [
    "cp=ModelCheckpoint('model_rnn.hdf5',monitor='val_acc',verbose=1,save_best_only=True)\n",
    "history=model.fit(x_train, y_train, validation_data=(x_val, y_val),epochs=3, batch_size=2,callbacks=[cp])"
   ]
  },
  {
   "cell_type": "code",
   "execution_count": 1,
   "metadata": {},
   "outputs": [
    {
     "output_type": "error",
     "ename": "NameError",
     "evalue": "name 'model' is not defined",
     "traceback": [
      "\u001b[0;31m\u001b[0m",
      "\u001b[0;31mNameError\u001b[0mTraceback (most recent call last)",
      "\u001b[0;32m<ipython-input-1-9f3215eaf493>\u001b[0m in \u001b[0;36m<module>\u001b[0;34m()\u001b[0m\n\u001b[1;32m      1\u001b[0m \u001b[0;31m# DS - also need this\u001b[0m\u001b[0;34m\u001b[0m\u001b[0;34m\u001b[0m\u001b[0m\n\u001b[0;32m----> 2\u001b[0;31m \u001b[0mmodel_json\u001b[0m \u001b[0;34m=\u001b[0m \u001b[0mmodel\u001b[0m\u001b[0;34m.\u001b[0m\u001b[0mto_json\u001b[0m\u001b[0;34m(\u001b[0m\u001b[0;34m)\u001b[0m\u001b[0;34m\u001b[0m\u001b[0m\n\u001b[0m\u001b[1;32m      3\u001b[0m \u001b[0;32mwith\u001b[0m \u001b[0mopen\u001b[0m\u001b[0;34m(\u001b[0m\u001b[0;34m'model.json'\u001b[0m\u001b[0;34m,\u001b[0m \u001b[0;34m'w'\u001b[0m\u001b[0;34m)\u001b[0m \u001b[0;32mas\u001b[0m \u001b[0mjson_file\u001b[0m\u001b[0;34m:\u001b[0m\u001b[0;34m\u001b[0m\u001b[0m\n\u001b[1;32m      4\u001b[0m     \u001b[0mjson_file\u001b[0m\u001b[0;34m.\u001b[0m\u001b[0mwrite\u001b[0m\u001b[0;34m(\u001b[0m\u001b[0mmodel_json\u001b[0m\u001b[0;34m)\u001b[0m\u001b[0;34m\u001b[0m\u001b[0m\n",
      "\u001b[0;31mNameError\u001b[0m: name 'model' is not defined"
     ]
    }
   ],
   "source": [
    "# DS - also need this\n",
    "model_json = model.to_json()\n",
    "with open('model.json', 'w') as json_file:\n",
    "    json_file.write(model_json)"
   ]
  },
  {
   "cell_type": "code",
   "execution_count": 2,
   "metadata": {},
   "outputs": [
    {
     "output_type": "error",
     "ename": "NameError",
     "evalue": "name 'model' is not defined",
     "traceback": [
      "\u001b[0;31m\u001b[0m",
      "\u001b[0;31mNameError\u001b[0mTraceback (most recent call last)",
      "\u001b[0;32m<ipython-input-2-aab9a5337e3d>\u001b[0m in \u001b[0;36m<module>\u001b[0;34m()\u001b[0m\n\u001b[1;32m      1\u001b[0m \u001b[0;31m# DS - also need this\u001b[0m\u001b[0;34m\u001b[0m\u001b[0;34m\u001b[0m\u001b[0m\n\u001b[0;32m----> 2\u001b[0;31m \u001b[0mmodel\u001b[0m\u001b[0;34m.\u001b[0m\u001b[0msave_weights\u001b[0m\u001b[0;34m(\u001b[0m\u001b[0;34m\"model.h5\"\u001b[0m\u001b[0;34m)\u001b[0m\u001b[0;34m\u001b[0m\u001b[0m\n\u001b[0m",
      "\u001b[0;31mNameError\u001b[0m: name 'model' is not defined"
     ]
    }
   ],
   "source": [
    "# DS - also need this\n",
    "model.save_weights(\"model.h5\")"
   ]
  },
  {
   "cell_type": "code",
   "execution_count": null,
   "metadata": {},
   "outputs": [],
   "source": []
  }
 ],
 "metadata": {
  "kernelspec": {
   "display_name": "Python 3",
   "language": "python",
   "name": "python3"
  },
  "language_info": {
   "codemirror_mode": {
    "name": "ipython",
    "version": 2
   },
   "file_extension": ".py",
   "mimetype": "text/x-python",
   "name": "python",
   "nbconvert_exporter": "python",
   "pygments_lexer": "ipython2",
   "version": "2.7.17-final"
  }
 },
 "nbformat": 4,
 "nbformat_minor": 4
}