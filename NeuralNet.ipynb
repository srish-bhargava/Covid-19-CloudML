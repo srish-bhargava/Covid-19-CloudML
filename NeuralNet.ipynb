{
 "cells": [
  {
   "cell_type": "code",
   "execution_count": 1,
   "metadata": {},
   "outputs": [
    {
     "name": "stderr",
     "output_type": "stream",
     "text": [
      "Using Theano backend.\n",
      "WARNING (theano.tensor.blas): Using NumPy C-API based implementation for BLAS functions.\n"
     ]
    }
   ],
   "source": [
    "import numpy as np\n",
    "import pandas as pd\n",
    "import pickle\n",
    "from collections import defaultdict\n",
    "import re\n",
    "#from bs4 import BeautifulSoup\n",
    "import sys\n",
    "import os\n",
    "os.environ['KERAS_BACKEND']='theano'\n",
    "from keras.preprocessing.text import Tokenizer\n",
    "from keras.preprocessing.sequence import pad_sequences\n",
    "from keras.utils.np_utils import to_categorical\n",
    "from keras.layers import Embedding\n",
    "from keras.layers import Dense, Input, Flatten\n",
    "from keras.layers import Conv1D, MaxPooling1D, Embedding, Dropout, LSTM, GRU, Bidirectional\n",
    "from keras.models import Model\n",
    "from keras.callbacks import ModelCheckpoint\n",
    "import matplotlib.pyplot as plt\n",
    "plt.switch_backend('agg')\n",
    "from keras import backend as K\n",
    "from keras.engine.topology import Layer, InputSpec\n",
    "from keras import initializers"
   ]
  },
  {
   "cell_type": "code",
   "execution_count": 2,
   "metadata": {},
   "outputs": [],
   "source": [
    "MAX_SEQUENCE_LENGTH = 1000\n",
    "MAX_NB_WORDS = 20000\n",
    "EMBEDDING_DIM = 100\n",
    "VALIDATION_SPLIT = 0.2"
   ]
  },
  {
   "cell_type": "code",
   "execution_count": 3,
   "metadata": {},
   "outputs": [],
   "source": [
    "tweets = pd.read_excel(\"text_classification_dataset.xlsx\")"
   ]
  },
  {
   "cell_type": "code",
   "execution_count": 4,
   "metadata": {},
   "outputs": [],
   "source": [
    "macronum=sorted(set(tweets['type']))\n",
    "macro_to_id = dict((note, number) for number, note in enumerate(macronum))\n",
    "\n",
    "def fun(i):\n",
    "    return macro_to_id[i]\n",
    "\n",
    "tweets['type']=tweets['type'].apply(fun)"
   ]
  },
  {
   "cell_type": "code",
   "execution_count": 5,
   "metadata": {},
   "outputs": [
    {
     "data": {
      "text/plain": [
       "array([3, 0, 1, 2])"
      ]
     },
     "execution_count": 5,
     "metadata": {},
     "output_type": "execute_result"
    }
   ],
   "source": [
    "tweets['type'].unique()"
   ]
  },
  {
   "cell_type": "code",
   "execution_count": 6,
   "metadata": {},
   "outputs": [],
   "source": [
    "labels = []\n",
    "for idx in tweets['type']:\n",
    "    labels.append(idx)"
   ]
  },
  {
   "cell_type": "code",
   "execution_count": 7,
   "metadata": {},
   "outputs": [],
   "source": [
    "texts = []\n",
    "for tweet in tweets['text']:\n",
    "    tweet = tweet.lower() # convert text to lower-case\n",
    "    tweet = re.sub('((www\\.[^\\s]+)|(https?://[^\\s]+))', 'URL', tweet) # remove URLs\n",
    "    tweet = re.sub('@[^\\s]+', 'AT_USER', tweet) # remove usernames\n",
    "    tweet = re.sub(r'#([^\\s]+)', r'\\1', tweet) \n",
    "    #print (tweet)\n",
    "    texts.append(tweet)"
   ]
  },
  {
   "cell_type": "code",
   "execution_count": 8,
   "metadata": {},
   "outputs": [
    {
     "name": "stdout",
     "output_type": "stream",
     "text": [
      "Number of Unique Tokens 5818\n"
     ]
    }
   ],
   "source": [
    "tokenizer = Tokenizer(num_words=MAX_NB_WORDS)\n",
    "tokenizer.fit_on_texts(texts)\n",
    "sequences = tokenizer.texts_to_sequences(texts)\n",
    "\n",
    "word_index = tokenizer.word_index\n",
    "\n",
    "print('Number of Unique Tokens',len(word_index))"
   ]
  },
  {
   "cell_type": "code",
   "execution_count": 9,
   "metadata": {},
   "outputs": [
    {
     "name": "stdout",
     "output_type": "stream",
     "text": [
      "Shape of Data Tensor: (1162, 1000)\n",
      "Shape of Label Tensor: (1162, 4)\n"
     ]
    }
   ],
   "source": [
    "data = pad_sequences(sequences, maxlen=MAX_SEQUENCE_LENGTH)\n",
    "\n",
    "labels = to_categorical(np.asarray(labels))\n",
    "print('Shape of Data Tensor:', data.shape)\n",
    "print('Shape of Label Tensor:', labels.shape)\n",
    "\n",
    "indices = np.arange(data.shape[0])\n",
    "np.random.shuffle(indices)\n",
    "data = data[indices]\n",
    "labels = labels[indices]\n",
    "nb_validation_samples = int(VALIDATION_SPLIT * data.shape[0])\n",
    "\n",
    "x_train = data[:-nb_validation_samples]\n",
    "y_train = labels[:-nb_validation_samples]\n",
    "x_val = data[-nb_validation_samples:]\n",
    "y_val = labels[-nb_validation_samples:]"
   ]
  },
  {
   "cell_type": "code",
   "execution_count": 10,
   "metadata": {},
   "outputs": [
    {
     "name": "stdout",
     "output_type": "stream",
     "text": [
      "Total 400000 word vectors in Glove 6B 100d.\n"
     ]
    }
   ],
   "source": [
    "embeddings_index = {}\n",
    "f = open('glove.6B.100d.txt',encoding='utf8')\n",
    "for line in f:\n",
    "    values = line.split()\n",
    "    word = values[0]\n",
    "    coefs = np.asarray(values[1:], dtype='float32')\n",
    "    embeddings_index[word] = coefs\n",
    "f.close()\n",
    "\n",
    "print('Total %s word vectors in Glove 6B 100d.' % len(embeddings_index))"
   ]
  },
  {
   "cell_type": "code",
   "execution_count": 11,
   "metadata": {},
   "outputs": [],
   "source": [
    "embedding_matrix = np.random.random((len(word_index) + 1, EMBEDDING_DIM))\n",
    "for word, i in word_index.items():\n",
    "    embedding_vector = embeddings_index.get(word)\n",
    "    if embedding_vector is not None:\n",
    "        # words not found in embedding index will be all-zeros.\n",
    "        embedding_matrix[i] = embedding_vector"
   ]
  },
  {
   "cell_type": "code",
   "execution_count": 12,
   "metadata": {},
   "outputs": [],
   "source": [
    "embedding_layer = Embedding(len(word_index) + 1,\n",
    "                            EMBEDDING_DIM,\n",
    "                            weights=[embedding_matrix],\n",
    "                            input_length=MAX_SEQUENCE_LENGTH,\n",
    "                            trainable=True)"
   ]
  },
  {
   "cell_type": "code",
   "execution_count": 13,
   "metadata": {},
   "outputs": [
    {
     "name": "stderr",
     "output_type": "stream",
     "text": [
      "WARNING (theano.gof.cmodule): Deleting (broken cache directory [EOF]): /home/srishti/.theano/compiledir_Linux-5.3--generic-x86_64-with-Ubuntu-18.04-bionic-x86_64-3.6.9-64/tmp0ap2v10g\n",
      "WARNING (theano.gof.cmodule): Deleting (broken cache directory [EOF]): /home/srishti/.theano/compiledir_Linux-5.3--generic-x86_64-with-Ubuntu-18.04-bionic-x86_64-3.6.9-64/tmp0hp4mcuy\n",
      "WARNING (theano.gof.cmodule): Deleting (broken cache directory [EOF]): /home/srishti/.theano/compiledir_Linux-5.3--generic-x86_64-with-Ubuntu-18.04-bionic-x86_64-3.6.9-64/tmp0i_f7p7d\n",
      "WARNING (theano.gof.cmodule): Deleting (broken cache directory [EOF]): /home/srishti/.theano/compiledir_Linux-5.3--generic-x86_64-with-Ubuntu-18.04-bionic-x86_64-3.6.9-64/tmp0jq2hug0\n",
      "WARNING (theano.gof.cmodule): Deleting (broken cache directory [EOF]): /home/srishti/.theano/compiledir_Linux-5.3--generic-x86_64-with-Ubuntu-18.04-bionic-x86_64-3.6.9-64/tmp0qb7o5bs\n",
      "WARNING (theano.gof.cmodule): Deleting (broken cache directory [EOF]): /home/srishti/.theano/compiledir_Linux-5.3--generic-x86_64-with-Ubuntu-18.04-bionic-x86_64-3.6.9-64/tmp26xgf2x1\n",
      "WARNING (theano.gof.cmodule): Deleting (broken cache directory [EOF]): /home/srishti/.theano/compiledir_Linux-5.3--generic-x86_64-with-Ubuntu-18.04-bionic-x86_64-3.6.9-64/tmp2i739ahq\n",
      "WARNING (theano.gof.cmodule): Deleting (broken cache directory [EOF]): /home/srishti/.theano/compiledir_Linux-5.3--generic-x86_64-with-Ubuntu-18.04-bionic-x86_64-3.6.9-64/tmp45lt4ib3\n",
      "WARNING (theano.gof.cmodule): Deleting (broken cache directory [EOF]): /home/srishti/.theano/compiledir_Linux-5.3--generic-x86_64-with-Ubuntu-18.04-bionic-x86_64-3.6.9-64/tmp5ytoth_b\n",
      "WARNING (theano.gof.cmodule): Deleting (broken cache directory [EOF]): /home/srishti/.theano/compiledir_Linux-5.3--generic-x86_64-with-Ubuntu-18.04-bionic-x86_64-3.6.9-64/tmp6ofb4bpy\n",
      "WARNING (theano.gof.cmodule): Deleting (broken cache directory [EOF]): /home/srishti/.theano/compiledir_Linux-5.3--generic-x86_64-with-Ubuntu-18.04-bionic-x86_64-3.6.9-64/tmp8crya7aj\n",
      "WARNING (theano.gof.cmodule): Deleting (broken cache directory [EOF]): /home/srishti/.theano/compiledir_Linux-5.3--generic-x86_64-with-Ubuntu-18.04-bionic-x86_64-3.6.9-64/tmp8i488esr\n",
      "WARNING (theano.gof.cmodule): Deleting (broken cache directory [EOF]): /home/srishti/.theano/compiledir_Linux-5.3--generic-x86_64-with-Ubuntu-18.04-bionic-x86_64-3.6.9-64/tmp_3supt3i\n",
      "WARNING (theano.gof.cmodule): Deleting (broken cache directory [EOF]): /home/srishti/.theano/compiledir_Linux-5.3--generic-x86_64-with-Ubuntu-18.04-bionic-x86_64-3.6.9-64/tmp_3ze0q21\n",
      "WARNING (theano.gof.cmodule): Deleting (broken cache directory [EOF]): /home/srishti/.theano/compiledir_Linux-5.3--generic-x86_64-with-Ubuntu-18.04-bionic-x86_64-3.6.9-64/tmpcadyubv4\n",
      "WARNING (theano.gof.cmodule): Deleting (broken cache directory [EOF]): /home/srishti/.theano/compiledir_Linux-5.3--generic-x86_64-with-Ubuntu-18.04-bionic-x86_64-3.6.9-64/tmpcnc3wncq\n",
      "WARNING (theano.gof.cmodule): Deleting (broken cache directory [EOF]): /home/srishti/.theano/compiledir_Linux-5.3--generic-x86_64-with-Ubuntu-18.04-bionic-x86_64-3.6.9-64/tmpd_df9dps\n",
      "WARNING (theano.gof.cmodule): Deleting (broken cache directory [EOF]): /home/srishti/.theano/compiledir_Linux-5.3--generic-x86_64-with-Ubuntu-18.04-bionic-x86_64-3.6.9-64/tmpdctxp5vu\n",
      "WARNING (theano.gof.cmodule): Deleting (broken cache directory [EOF]): /home/srishti/.theano/compiledir_Linux-5.3--generic-x86_64-with-Ubuntu-18.04-bionic-x86_64-3.6.9-64/tmpecney7vq\n",
      "WARNING (theano.gof.cmodule): Deleting (broken cache directory [EOF]): /home/srishti/.theano/compiledir_Linux-5.3--generic-x86_64-with-Ubuntu-18.04-bionic-x86_64-3.6.9-64/tmpegsop0yt\n",
      "WARNING (theano.gof.cmodule): Deleting (broken cache directory [EOF]): /home/srishti/.theano/compiledir_Linux-5.3--generic-x86_64-with-Ubuntu-18.04-bionic-x86_64-3.6.9-64/tmpf9vana_p\n",
      "WARNING (theano.gof.cmodule): Deleting (broken cache directory [EOF]): /home/srishti/.theano/compiledir_Linux-5.3--generic-x86_64-with-Ubuntu-18.04-bionic-x86_64-3.6.9-64/tmpfbcqnii8\n",
      "WARNING (theano.gof.cmodule): Deleting (broken cache directory [EOF]): /home/srishti/.theano/compiledir_Linux-5.3--generic-x86_64-with-Ubuntu-18.04-bionic-x86_64-3.6.9-64/tmphq7aigh8\n",
      "WARNING (theano.gof.cmodule): Deleting (broken cache directory [EOF]): /home/srishti/.theano/compiledir_Linux-5.3--generic-x86_64-with-Ubuntu-18.04-bionic-x86_64-3.6.9-64/tmpikjlw8yv\n",
      "WARNING (theano.gof.cmodule): Deleting (broken cache directory [EOF]): /home/srishti/.theano/compiledir_Linux-5.3--generic-x86_64-with-Ubuntu-18.04-bionic-x86_64-3.6.9-64/tmpimnb7aty\n",
      "WARNING (theano.gof.cmodule): Deleting (broken cache directory [EOF]): /home/srishti/.theano/compiledir_Linux-5.3--generic-x86_64-with-Ubuntu-18.04-bionic-x86_64-3.6.9-64/tmpirbnmkoq\n",
      "WARNING (theano.gof.cmodule): Deleting (broken cache directory [EOF]): /home/srishti/.theano/compiledir_Linux-5.3--generic-x86_64-with-Ubuntu-18.04-bionic-x86_64-3.6.9-64/tmpizajlajf\n",
      "WARNING (theano.gof.cmodule): Deleting (broken cache directory [EOF]): /home/srishti/.theano/compiledir_Linux-5.3--generic-x86_64-with-Ubuntu-18.04-bionic-x86_64-3.6.9-64/tmpj0ca68g3\n",
      "WARNING (theano.gof.cmodule): Deleting (broken cache directory [EOF]): /home/srishti/.theano/compiledir_Linux-5.3--generic-x86_64-with-Ubuntu-18.04-bionic-x86_64-3.6.9-64/tmpjr8a5wot\n",
      "WARNING (theano.gof.cmodule): Deleting (broken cache directory [EOF]): /home/srishti/.theano/compiledir_Linux-5.3--generic-x86_64-with-Ubuntu-18.04-bionic-x86_64-3.6.9-64/tmpkaxsy45j\n",
      "WARNING (theano.gof.cmodule): Deleting (broken cache directory [EOF]): /home/srishti/.theano/compiledir_Linux-5.3--generic-x86_64-with-Ubuntu-18.04-bionic-x86_64-3.6.9-64/tmpkntxwic6\n",
      "WARNING (theano.gof.cmodule): Deleting (broken cache directory [EOF]): /home/srishti/.theano/compiledir_Linux-5.3--generic-x86_64-with-Ubuntu-18.04-bionic-x86_64-3.6.9-64/tmpkzdzsaiv\n",
      "WARNING (theano.gof.cmodule): Deleting (broken cache directory [EOF]): /home/srishti/.theano/compiledir_Linux-5.3--generic-x86_64-with-Ubuntu-18.04-bionic-x86_64-3.6.9-64/tmpl4envtvq\n",
      "WARNING (theano.gof.cmodule): Deleting (broken cache directory [EOF]): /home/srishti/.theano/compiledir_Linux-5.3--generic-x86_64-with-Ubuntu-18.04-bionic-x86_64-3.6.9-64/tmpm6cgymjz\n",
      "WARNING (theano.gof.cmodule): Deleting (broken cache directory [EOF]): /home/srishti/.theano/compiledir_Linux-5.3--generic-x86_64-with-Ubuntu-18.04-bionic-x86_64-3.6.9-64/tmpmg_1h0ty\n",
      "WARNING (theano.gof.cmodule): Deleting (broken cache directory [EOF]): /home/srishti/.theano/compiledir_Linux-5.3--generic-x86_64-with-Ubuntu-18.04-bionic-x86_64-3.6.9-64/tmpmwlspnk5\n",
      "WARNING (theano.gof.cmodule): Deleting (broken cache directory [EOF]): /home/srishti/.theano/compiledir_Linux-5.3--generic-x86_64-with-Ubuntu-18.04-bionic-x86_64-3.6.9-64/tmpnsnv7pss\n",
      "WARNING (theano.gof.cmodule): Deleting (broken cache directory [EOF]): /home/srishti/.theano/compiledir_Linux-5.3--generic-x86_64-with-Ubuntu-18.04-bionic-x86_64-3.6.9-64/tmpo77yj9i0\n",
      "WARNING (theano.gof.cmodule): Deleting (broken cache directory [EOF]): /home/srishti/.theano/compiledir_Linux-5.3--generic-x86_64-with-Ubuntu-18.04-bionic-x86_64-3.6.9-64/tmpom9acys8\n",
      "WARNING (theano.gof.cmodule): Deleting (broken cache directory [EOF]): /home/srishti/.theano/compiledir_Linux-5.3--generic-x86_64-with-Ubuntu-18.04-bionic-x86_64-3.6.9-64/tmpphb5fzp1\n",
      "WARNING (theano.gof.cmodule): Deleting (broken cache directory [EOF]): /home/srishti/.theano/compiledir_Linux-5.3--generic-x86_64-with-Ubuntu-18.04-bionic-x86_64-3.6.9-64/tmpq5ww5dk9\n",
      "WARNING (theano.gof.cmodule): Deleting (broken cache directory [EOF]): /home/srishti/.theano/compiledir_Linux-5.3--generic-x86_64-with-Ubuntu-18.04-bionic-x86_64-3.6.9-64/tmpqlmjqk80\n",
      "WARNING (theano.gof.cmodule): Deleting (broken cache directory [EOF]): /home/srishti/.theano/compiledir_Linux-5.3--generic-x86_64-with-Ubuntu-18.04-bionic-x86_64-3.6.9-64/tmps6c26l7i\n",
      "WARNING (theano.gof.cmodule): Deleting (broken cache directory [EOF]): /home/srishti/.theano/compiledir_Linux-5.3--generic-x86_64-with-Ubuntu-18.04-bionic-x86_64-3.6.9-64/tmpsaqtjgcm\n",
      "WARNING (theano.gof.cmodule): Deleting (broken cache directory [EOF]): /home/srishti/.theano/compiledir_Linux-5.3--generic-x86_64-with-Ubuntu-18.04-bionic-x86_64-3.6.9-64/tmpsc83woub\n"
     ]
    },
    {
     "name": "stderr",
     "output_type": "stream",
     "text": [
      "WARNING (theano.gof.cmodule): Deleting (broken cache directory [EOF]): /home/srishti/.theano/compiledir_Linux-5.3--generic-x86_64-with-Ubuntu-18.04-bionic-x86_64-3.6.9-64/tmpsta_8oah\n",
      "WARNING (theano.gof.cmodule): Deleting (broken cache directory [EOF]): /home/srishti/.theano/compiledir_Linux-5.3--generic-x86_64-with-Ubuntu-18.04-bionic-x86_64-3.6.9-64/tmpuwxf6f8a\n",
      "WARNING (theano.gof.cmodule): Deleting (broken cache directory [EOF]): /home/srishti/.theano/compiledir_Linux-5.3--generic-x86_64-with-Ubuntu-18.04-bionic-x86_64-3.6.9-64/tmpv73s8mtz\n",
      "WARNING (theano.gof.cmodule): Deleting (broken cache directory [EOF]): /home/srishti/.theano/compiledir_Linux-5.3--generic-x86_64-with-Ubuntu-18.04-bionic-x86_64-3.6.9-64/tmpx8nqcq9j\n",
      "WARNING (theano.gof.cmodule): Deleting (broken cache directory [EOF]): /home/srishti/.theano/compiledir_Linux-5.3--generic-x86_64-with-Ubuntu-18.04-bionic-x86_64-3.6.9-64/tmpy5dgwljc\n",
      "WARNING (theano.gof.cmodule): Deleting (broken cache directory [EOF]): /home/srishti/.theano/compiledir_Linux-5.3--generic-x86_64-with-Ubuntu-18.04-bionic-x86_64-3.6.9-64/tmpyb8i78gi\n",
      "WARNING (theano.gof.cmodule): Deleting (broken cache directory [EOF]): /home/srishti/.theano/compiledir_Linux-5.3--generic-x86_64-with-Ubuntu-18.04-bionic-x86_64-3.6.9-64/tmpznala8w9\n"
     ]
    },
    {
     "name": "stdout",
     "output_type": "stream",
     "text": [
      "Bidirectional LSTM\n",
      "Model: \"model_1\"\n",
      "_________________________________________________________________\n",
      "Layer (type)                 Output Shape              Param #   \n",
      "=================================================================\n",
      "input_1 (InputLayer)         (None, 1000)              0         \n",
      "_________________________________________________________________\n",
      "embedding_1 (Embedding)      (None, 1000, 100)         581900    \n",
      "_________________________________________________________________\n",
      "bidirectional_1 (Bidirection (None, 200)               160800    \n",
      "_________________________________________________________________\n",
      "dense_1 (Dense)              (None, 4)                 804       \n",
      "=================================================================\n",
      "Total params: 743,504\n",
      "Trainable params: 743,504\n",
      "Non-trainable params: 0\n",
      "_________________________________________________________________\n"
     ]
    }
   ],
   "source": [
    "sequence_input = Input(shape=(MAX_SEQUENCE_LENGTH,), dtype='int32')\n",
    "embedded_sequences = embedding_layer(sequence_input)\n",
    "l_lstm = Bidirectional(LSTM(100))(embedded_sequences)\n",
    "preds = Dense(len(macronum), activation='softmax')(l_lstm)\n",
    "model = Model(sequence_input, preds)\n",
    "model.compile(loss='categorical_crossentropy',\n",
    "              optimizer='rmsprop',\n",
    "              metrics=['acc'])\n",
    "\n",
    "print(\"Bidirectional LSTM\")\n",
    "model.summary()"
   ]
  },
  {
   "cell_type": "code",
   "execution_count": 15,
   "metadata": {},
   "outputs": [
    {
     "name": "stdout",
     "output_type": "stream",
     "text": [
      "Train on 930 samples, validate on 232 samples\n",
      "Epoch 1/3\n",
      "930/930 [==============================] - 535s 576ms/step - loss: 0.9195 - acc: 0.6075 - val_loss: 0.5421 - val_acc: 0.8017\n",
      "\n",
      "Epoch 00001: val_acc improved from -inf to 0.80172, saving model to model_rnn.hdf5\n",
      "Epoch 2/3\n",
      "930/930 [==============================] - 537s 578ms/step - loss: 0.5003 - acc: 0.8301 - val_loss: 0.4577 - val_acc: 0.8578\n",
      "\n",
      "Epoch 00002: val_acc improved from 0.80172 to 0.85776, saving model to model_rnn.hdf5\n",
      "Epoch 3/3\n",
      "930/930 [==============================] - 547s 589ms/step - loss: 0.3741 - acc: 0.8806 - val_loss: 0.4374 - val_acc: 0.8750\n",
      "\n",
      "Epoch 00003: val_acc improved from 0.85776 to 0.87500, saving model to model_rnn.hdf5\n"
     ]
    }
   ],
   "source": [
    "cp=ModelCheckpoint('model_rnn.hdf5',monitor='val_acc',verbose=1,save_best_only=True)\n",
    "history=model.fit(x_train, y_train, validation_data=(x_val, y_val),epochs=3, batch_size=2,callbacks=[cp])"
   ]
  },
  {
   "cell_type": "code",
   "execution_count": null,
   "metadata": {},
   "outputs": [],
   "source": []
  }
 ],
 "metadata": {
  "kernelspec": {
   "display_name": "Python 3",
   "language": "python",
   "name": "python3"
  },
  "language_info": {
   "codemirror_mode": {
    "name": "ipython",
    "version": 3
   },
   "file_extension": ".py",
   "mimetype": "text/x-python",
   "name": "python",
   "nbconvert_exporter": "python",
   "pygments_lexer": "ipython3",
   "version": "3.6.9"
  }
 },
 "nbformat": 4,
 "nbformat_minor": 4
}
